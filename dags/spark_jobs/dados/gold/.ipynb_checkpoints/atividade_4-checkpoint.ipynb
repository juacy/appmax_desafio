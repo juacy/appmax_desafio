{
 "cells": [
  {
   "cell_type": "code",
   "execution_count": 1,
   "id": "19a13784-d852-4912-a277-8a105bc8cb3c",
   "metadata": {},
   "outputs": [],
   "source": [
    "from pyspark import SparkContext\n",
    "import pyspark.sql.functions as F\n",
    "from pyspark.sql import SparkSession"
   ]
  },
  {
   "cell_type": "code",
   "execution_count": 2,
   "id": "914b9638-8330-4ade-a446-34db9fba3c37",
   "metadata": {},
   "outputs": [],
   "source": [
    "spark = SparkSession.builder.getOrCreate()"
   ]
  },
  {
   "cell_type": "code",
   "execution_count": 4,
   "id": "c1774917-94c5-41c5-a512-7babb2d0ccfc",
   "metadata": {},
   "outputs": [
    {
     "name": "stdout",
     "output_type": "stream",
     "text": [
      "+---+----------+-----------+--------------------+------------+-------------------+--------------------+------------------+--------------------+--------------+--------------+\n",
      "| id|      nome|  sobrenome|               email|valor_pedido|        data_pedido|             tipo_cc|     nome completo|              regiao|        cidade|          pais|\n",
      "+---+----------+-----------+--------------------+------------+-------------------+--------------------+------------------+--------------------+--------------+--------------+\n",
      "|  1| Aleksandr|   Crighton|acrighton0@instag...|       71.31|2021-08-21 14:18:35|                 jcb|Aleksandr Crighton|    Ehime Prefecture|   Uwajima-shi|         Japan|\n",
      "|  2|       Tad|     Arangy|tarangy1@studiopr...|       28.12|2021-10-28 22:44:27|             maestro|        Tad Arangy|        Buenos Aires|  Buenos Aires|     Argentina|\n",
      "|  3|      Wake|     Samart|   wsamart2@ning.com|      148.18|2022-06-26 22:33:37|       visa-electron|       Wake Samart|                null|          null|          null|\n",
      "|  4|     Svend|    Morfell|smorfell3@arizona...|      148.74|2021-12-23 15:19:03|                 jcb|     Svend Morfell|        Pennsylvania|     Whitehall| United States|\n",
      "|  5|    Phoebe|  Wealthall|pwealthall4@smugm...|      146.84|2022-04-16 23:08:17|             maestro|  Phoebe Wealthall| Epirus and Weste...|      Ioannina|        Greece|\n",
      "|  6|     Sayre|     Ashbey|sashbey5@google.c...|      118.62|2022-06-14 22:24:33|                 jcb|      Sayre Ashbey|       North Holland|     Amsterdam|   Netherlands|\n",
      "|  7|       Dun|     Breens|dbreens6@seattlet...|      136.92|2021-09-24 17:54:06|       visa-electron|        Dun Breens|            New York|      New York| United States|\n",
      "|  8|     Reine|     Noakes|rnoakes7@nbcnews.com|       53.63|2022-04-01 04:13:58|            bankcard|      Reine Noakes|          Overijssel|        Almelo|   Netherlands|\n",
      "|  9|    Flossy|    Raynton|fraynton8@telegra...|       144.2|2021-09-10 23:26:33|                 jcb|    Flossy Raynton|         Mexico City|   Mexico City|        Mexico|\n",
      "| 10|    Marjie|  Errington|merrington9@unice...|       87.56|2021-12-18 00:34:57|     americanexpress|  Marjie Errington|            New York|      New York| United States|\n",
      "| 11|  Albrecht|      Brood|   abrooda@hexun.com|       70.54|2021-11-18 09:33:16|diners-club-inter...|    Albrecht Brood|     Plaines Wilhems| Quatre Bornes|     Mauritius|\n",
      "| 12|   Katrina|       Crim|kcrimb@hugedomain...|       56.41|2022-05-23 06:39:36|            bankcard|      Katrina Crim|            Illinois|       Chicago| United States|\n",
      "| 13|Jaquenetta|    Theaker|  jtheakerc@yelp.com|       19.67|2021-09-03 08:54:36|                 jcb|Jaquenetta Theaker|        Pennsylvania|     Whitehall| United States|\n",
      "| 14|   Brennen|     Pauwel|bpauweld@referenc...|       15.71|2022-01-31 02:23:48|                 jcb|    Brennen Pauwel|        Keelung City|        Taipei|        Taiwan|\n",
      "| 15|     Corty|Northcliffe|cnorthcliffee@fc2...|        17.0|2021-12-27 08:37:12|             maestro| Corty Northcliffe|             Tianjin|       Tianjin|         China|\n",
      "| 16|     Loise| Ryhorovich|lryhorovichf@baid...|      113.88|2021-10-26 07:23:20|             maestro|  Loise Ryhorovich|            Virginia|       Ashburn| United States|\n",
      "| 17|   Mozelle|    Laurand|mlaurandg@arstech...|      134.56|2022-07-23 22:46:50|                 jcb|   Mozelle Laurand|               Tokyo|        Minato|         Japan|\n",
      "| 18|Fitzgerald|    Sworder|   fsworderh@mlb.com|      140.55|2021-09-01 10:14:28|                 jcb|Fitzgerald Sworder|                null|          null|          null|\n",
      "| 19|    Gretna|   Falconer|   gfalconeri@pen.io|      108.93|2021-07-27 11:42:55|                 jcb|   Gretna Falconer|                null|          null|          null|\n",
      "| 20|     Parke|   Lantiffe|plantiffej@wordpr...|       62.48|2022-02-02 09:42:27|                 jcb|    Parke Lantiffe|        Pennsylvania|    Middletown| United States|\n",
      "+---+----------+-----------+--------------------+------------+-------------------+--------------------+------------------+--------------------+--------------+--------------+\n",
      "only showing top 20 rows\n",
      "\n"
     ]
    }
   ],
   "source": [
    "tabela_oficial = spark.read.parquet(\"////home/jovyan/work/pedidos_com_ip.parquet\")\n",
    "\n",
    "tabela_oficial.show()"
   ]
  },
  {
   "cell_type": "code",
   "execution_count": 5,
   "id": "63cc78ac-5aed-4622-b4d8-d33263fe07ad",
   "metadata": {},
   "outputs": [
    {
     "name": "stdout",
     "output_type": "stream",
     "text": [
      "+--------------------+------------------+\n",
      "|             tipo_cc| sum(valor_pedido)|\n",
      "+--------------------+------------------+\n",
      "|     americanexpress|4389.6500000000015|\n",
      "|            bankcard| 3241.530000000001|\n",
      "|      china-unionpay| 3950.999999999999|\n",
      "|diners-club-carte...| 2683.219999999999|\n",
      "| diners-club-enroute|           4088.96|\n",
      "|diners-club-inter...|             366.1|\n",
      "|   diners-club-us-ca|368.17999999999995|\n",
      "|        instapayment|1335.4699999999998|\n",
      "|                 jcb|33108.200000000004|\n",
      "|               laser|           2318.02|\n",
      "|             maestro| 6265.369999999999|\n",
      "|          mastercard| 7253.419999999998|\n",
      "|                solo|1574.1100000000001|\n",
      "|              switch| 4978.219999999999|\n",
      "|                visa|2180.4200000000005|\n",
      "|       visa-electron|           4431.96|\n",
      "+--------------------+------------------+\n",
      "\n"
     ]
    }
   ],
   "source": [
    "#agregação por tipo_cc\n",
    "tabela_oficial.groupBy(\"tipo_cc\").sum(\"valor_pedido\").orderBy('tipo_cc').show()"
   ]
  },
  {
   "cell_type": "code",
   "execution_count": 6,
   "id": "77e626f1-5206-4b4d-82e3-9cadfe21755f",
   "metadata": {},
   "outputs": [
    {
     "name": "stdout",
     "output_type": "stream",
     "text": [
      "+---+----------+-----------+--------------------+------------+-------------------+--------------------+------------------+--------------------+--------------+--------------+----------+\n",
      "| id|      nome|  sobrenome|               email|valor_pedido|        data_pedido|             tipo_cc|     nome completo|              regiao|        cidade|          pais|dateColumn|\n",
      "+---+----------+-----------+--------------------+------------+-------------------+--------------------+------------------+--------------------+--------------+--------------+----------+\n",
      "|  1| Aleksandr|   Crighton|acrighton0@instag...|       71.31|2021-08-21 14:18:35|                 jcb|Aleksandr Crighton|    Ehime Prefecture|   Uwajima-shi|         Japan|2021-08-21|\n",
      "|  2|       Tad|     Arangy|tarangy1@studiopr...|       28.12|2021-10-28 22:44:27|             maestro|        Tad Arangy|        Buenos Aires|  Buenos Aires|     Argentina|2021-10-28|\n",
      "|  3|      Wake|     Samart|   wsamart2@ning.com|      148.18|2022-06-26 22:33:37|       visa-electron|       Wake Samart|                null|          null|          null|2022-06-26|\n",
      "|  4|     Svend|    Morfell|smorfell3@arizona...|      148.74|2021-12-23 15:19:03|                 jcb|     Svend Morfell|        Pennsylvania|     Whitehall| United States|2021-12-23|\n",
      "|  5|    Phoebe|  Wealthall|pwealthall4@smugm...|      146.84|2022-04-16 23:08:17|             maestro|  Phoebe Wealthall| Epirus and Weste...|      Ioannina|        Greece|2022-04-16|\n",
      "|  6|     Sayre|     Ashbey|sashbey5@google.c...|      118.62|2022-06-14 22:24:33|                 jcb|      Sayre Ashbey|       North Holland|     Amsterdam|   Netherlands|2022-06-14|\n",
      "|  7|       Dun|     Breens|dbreens6@seattlet...|      136.92|2021-09-24 17:54:06|       visa-electron|        Dun Breens|            New York|      New York| United States|2021-09-24|\n",
      "|  8|     Reine|     Noakes|rnoakes7@nbcnews.com|       53.63|2022-04-01 04:13:58|            bankcard|      Reine Noakes|          Overijssel|        Almelo|   Netherlands|2022-04-01|\n",
      "|  9|    Flossy|    Raynton|fraynton8@telegra...|       144.2|2021-09-10 23:26:33|                 jcb|    Flossy Raynton|         Mexico City|   Mexico City|        Mexico|2021-09-10|\n",
      "| 10|    Marjie|  Errington|merrington9@unice...|       87.56|2021-12-18 00:34:57|     americanexpress|  Marjie Errington|            New York|      New York| United States|2021-12-18|\n",
      "| 11|  Albrecht|      Brood|   abrooda@hexun.com|       70.54|2021-11-18 09:33:16|diners-club-inter...|    Albrecht Brood|     Plaines Wilhems| Quatre Bornes|     Mauritius|2021-11-18|\n",
      "| 12|   Katrina|       Crim|kcrimb@hugedomain...|       56.41|2022-05-23 06:39:36|            bankcard|      Katrina Crim|            Illinois|       Chicago| United States|2022-05-23|\n",
      "| 13|Jaquenetta|    Theaker|  jtheakerc@yelp.com|       19.67|2021-09-03 08:54:36|                 jcb|Jaquenetta Theaker|        Pennsylvania|     Whitehall| United States|2021-09-03|\n",
      "| 14|   Brennen|     Pauwel|bpauweld@referenc...|       15.71|2022-01-31 02:23:48|                 jcb|    Brennen Pauwel|        Keelung City|        Taipei|        Taiwan|2022-01-31|\n",
      "| 15|     Corty|Northcliffe|cnorthcliffee@fc2...|        17.0|2021-12-27 08:37:12|             maestro| Corty Northcliffe|             Tianjin|       Tianjin|         China|2021-12-27|\n",
      "| 16|     Loise| Ryhorovich|lryhorovichf@baid...|      113.88|2021-10-26 07:23:20|             maestro|  Loise Ryhorovich|            Virginia|       Ashburn| United States|2021-10-26|\n",
      "| 17|   Mozelle|    Laurand|mlaurandg@arstech...|      134.56|2022-07-23 22:46:50|                 jcb|   Mozelle Laurand|               Tokyo|        Minato|         Japan|2022-07-23|\n",
      "| 18|Fitzgerald|    Sworder|   fsworderh@mlb.com|      140.55|2021-09-01 10:14:28|                 jcb|Fitzgerald Sworder|                null|          null|          null|2021-09-01|\n",
      "| 19|    Gretna|   Falconer|   gfalconeri@pen.io|      108.93|2021-07-27 11:42:55|                 jcb|   Gretna Falconer|                null|          null|          null|2021-07-27|\n",
      "| 20|     Parke|   Lantiffe|plantiffej@wordpr...|       62.48|2022-02-02 09:42:27|                 jcb|    Parke Lantiffe|        Pennsylvania|    Middletown| United States|2022-02-02|\n",
      "+---+----------+-----------+--------------------+------------+-------------------+--------------------+------------------+--------------------+--------------+--------------+----------+\n",
      "only showing top 20 rows\n",
      "\n"
     ]
    }
   ],
   "source": [
    "#transformando timestamp para data para poder fazer o agrupamento\n",
    "tabela_oficial = tabela_oficial.withColumn('dateColumn', F.col('data_pedido').cast('date'))\n",
    "tabela_oficial.show()"
   ]
  },
  {
   "cell_type": "code",
   "execution_count": 7,
   "id": "3e517b2d-420c-4aab-a0ac-5fd8d34cbcf1",
   "metadata": {},
   "outputs": [
    {
     "name": "stdout",
     "output_type": "stream",
     "text": [
      "+----------+------------------+\n",
      "|dateColumn| sum(valor_pedido)|\n",
      "+----------+------------------+\n",
      "|2021-07-27|            272.78|\n",
      "|2021-07-28|            364.27|\n",
      "|2021-07-29|223.32999999999998|\n",
      "|2021-07-30|            145.59|\n",
      "|2021-07-31|            362.04|\n",
      "|2021-08-01|            465.43|\n",
      "|2021-08-02|            141.14|\n",
      "|2021-08-03|278.86999999999995|\n",
      "|2021-08-04|             96.47|\n",
      "|2021-08-05|             67.43|\n",
      "|2021-08-06|             91.17|\n",
      "|2021-08-07|            259.32|\n",
      "|2021-08-08|191.73999999999998|\n",
      "|2021-08-09|215.48000000000002|\n",
      "|2021-08-10|            270.24|\n",
      "|2021-08-11|            213.93|\n",
      "|2021-08-12|             61.95|\n",
      "|2021-08-14|            263.75|\n",
      "|2021-08-16| 57.93000000000001|\n",
      "|2021-08-17|287.59000000000003|\n",
      "+----------+------------------+\n",
      "only showing top 20 rows\n",
      "\n"
     ]
    }
   ],
   "source": [
    "#agregação por dia\n",
    "tabela_oficial.groupBy(\"dateColumn\").sum(\"valor_pedido\").orderBy('dateColumn').show()"
   ]
  }
 ],
 "metadata": {
  "kernelspec": {
   "display_name": "Python 3 (ipykernel)",
   "language": "python",
   "name": "python3"
  },
  "language_info": {
   "codemirror_mode": {
    "name": "ipython",
    "version": 3
   },
   "file_extension": ".py",
   "mimetype": "text/x-python",
   "name": "python",
   "nbconvert_exporter": "python",
   "pygments_lexer": "ipython3",
   "version": "3.10.6"
  }
 },
 "nbformat": 4,
 "nbformat_minor": 5
}
